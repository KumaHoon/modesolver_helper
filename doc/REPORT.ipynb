{
 "cells": [
  {
   "cell_type": "markdown",
   "id": "1f22d1b2",
   "metadata": {},
   "source": [
    "# Modesolver_helper\n",
    "\n",
    "# 연구실 심화 실습 Project\n",
    "\n",
    "-----\n",
    "\n",
    "### Project members\n",
    "+ Sanghoon Kim\n",
    "+ Kangseok Kim\n",
    "+ Seoungmin Park \n",
    "\n",
    "----\n",
    "\n",
    "## Introduction\n",
    "> * Background of Si photonics\n",
    ">   + The problem is that electronics reduces energy efficiency when processing and processing data in a data center. \n",
    ">   + Data center capacity is increasing every year due to other Internet activities.\n",
    ">   + An alternative to Si Electronics is the introduction of Si Photonics. \n",
    ">\n",
    "> * Waveguide and Mode\n",
    ">   + Waveguide traps light in the Waveguide structure and transmits it to a specific location. \n",
    ">   + Waveguide consists of Core and Cladding.<br>Due to the geometric morphology of Waveguide and the refractive index of the components, there is a specific Efield profile in the Waveguide section, which is called Mode.\n",
    ">  + If the structure of the Waveguide does not change in the direction of light travel, the light will proceed with the probability image in the form of an E-field profile in a particular mode. Waveguide's design parameters have different mode characteristics, so the process of optimizing Waveguide to achieve the desired mode is a must in Waveguide design.\n",
    "\n",
    "\n",
    "### Requirements\n",
    " Getting Stared\n",
    "   + Entered the Terminal, write down 'pip install -r requirements.txt' and download it. \\\n",
    "```pip install -r requirements.txt```\n",
    "\n",
    "-----\n",
    "## Motivation\n",
    "I've practice to solve modes in optical-waveguide by using modesolverpy in lab practice course in my university. However, It seems there are some problems when you run modesolverpy in Windows. So, I make a decision to help running modesolverpy in windows. And also, There are some example codes in this repository.\n",
    "\n",
    "\n",
    "### modesolverpy\n",
    "> + photonic mode solver with a nice interface and output \n",
    "> + simple structure drawing.\n",
    "> + automated data saving and plotting via Gnuplotm\n",
    "> + some limited (at this stage) data processing (finding MFD of fundamental mode), and\n",
    "> + easily extensible library\n",
    ">     \n",
    "> The documentation for this project can be found here.\n",
    "https://modesolverpy.readthedocs.io/en/latest/index.html\n",
    "\n",
    "#### Structure\n",
    "> example\n",
    ">\n",
    "> <img src = \"https://user-images.githubusercontent.com/80964488/121545451-8356f380-ca45-11eb-967f-4a7115f7fcf9.png\" width=\"30%\" height=\"30%\"> <img src = \"https://user-images.githubusercontent.com/80964488/121545462-8520b700-ca45-11eb-9e71-e9f79ca34c96.png\" width=\"30%\" height=\"30%\"> <img src = \"https://user-images.githubusercontent.com/80964488/121545475-881ba780-ca45-11eb-9969-d22fb45706fd.png\" width=\"30%\" height=\"30%\">\n",
    "\n",
    "## Parameter\n",
    "> + \n",
    "> + t_slab\n",
    "> + "
   ]
  },
  {
   "cell_type": "markdown",
   "id": "01366f89",
   "metadata": {},
   "source": [
    "-----\n",
    "## BaseCode\n",
    "\n",
    "### Import Library"
   ]
  },
  {
   "cell_type": "code",
   "execution_count": 3,
   "id": "6a300571",
   "metadata": {},
   "outputs": [],
   "source": [
    "import modesolverpy.mode_solver as ms \n",
    "import modesolverpy.structure as st\n",
    "import numpy as mp \n",
    "import pandas as pd "
   ]
  },
  {
   "cell_type": "markdown",
   "id": "67f7a156",
   "metadata": {},
   "source": [
    "### Make a list of parameters"
   ]
  },
  {
   "cell_type": "code",
   "execution_count": 4,
   "id": "e745127b",
   "metadata": {},
   "outputs": [],
   "source": [
    "# Key Element : [w_wg,t_soi,t_slab,n_eff]\n",
    "# sweep : 0.01 um\n",
    "\n",
    "total_list = [] \n",
    "w_wg_list = [round(0.2 +0.01*i,2) for i in range(0,81) ] # 0.2 ~ 1\n",
    "t_soi_list = [round(0.2 + 0.01*i,2) for i in range(0,31)] # 0.2 ~ 0.5\n",
    "t_slab_list = [] # 0 ~ t_soi/2"
   ]
  },
  {
   "cell_type": "markdown",
   "id": "46843479",
   "metadata": {},
   "source": [
    "## Draw Structure"
   ]
  },
  {
   "cell_type": "code",
   "execution_count": 6,
   "id": "5766c4af",
   "metadata": {},
   "outputs": [],
   "source": [
    "\"\"\"\n",
    "Param : wg_width[um], film_thickness[um], wg_height[um]\n",
    "\n",
    "Base wavelength of light : 1350nm\n",
    "Return structure profile\n",
    "\"\"\"\n",
    "\n",
    "def draw_structure(wg_width=0.22,film_thickness=0.1,wg_height=0.05)->float:\n",
    "    struct = st.RidgeWaveguide(x_step = 0.02,\n",
    "    y_step = 0.02,\n",
    "    wg_height = wg_height,\n",
    "    wg_width = wg_width,\n",
    "    sub_height = 0.5,\n",
    "    sub_width = 2.,\n",
    "    n_sub = 1.4,\n",
    "    n_wg = 3.4,\n",
    "    n_clad = 1.,\n",
    "    wavelength = 1.350,\n",
    "    angle = 90.,\n",
    "    clad_height = 0.5,\n",
    "    film_thickness=film_thickness)\n",
    "    return struct"
   ]
  },
  {
   "cell_type": "markdown",
   "id": "57e9b6c4",
   "metadata": {},
   "source": [
    "## * Solve effective index of refraction "
   ]
  },
  {
   "cell_type": "code",
   "execution_count": 7,
   "id": "ffb891f2",
   "metadata": {},
   "outputs": [],
   "source": [
    "\"\"\"\n",
    "====\n",
    "param : wg_width[um], film_thickness[um], wg_height[um]\n",
    "\n",
    "Return n_eff of waveguide with mode 0 and 1.\n",
    "=====\n",
    "\"\"\"\n",
    "\n",
    "def find_n_eff_mode_zero(wg_width=0.22,film_thickness=0.1,wg_height=0.05)->float:\n",
    "    structure = draw_structure(wg_width,film_thickness,wg_height)\n",
    "    mode_solver = ms.ModeSolverSemiVectorial(2, semi_vectorial_method='Ex') \n",
    "    a = mode_solver.solve(structure)\n",
    "    return a[\"n_effs\"][0].real # 구해야 하는 것 [mode : 0에서의 n_eff]\n",
    "\n",
    "\n",
    "def find_n_eff_mode_one(wg_width=0.22,film_thickness=0.1,wg_height=0.05)->float:\n",
    "    structure = draw_structure(wg_width,film_thickness,wg_height)\n",
    "    mode_solver = ms.ModeSolverSemiVectorial(4, semi_vectorial_method='Ex') \n",
    "    a = mode_solver.solve(structure)\n",
    "    return a[\"n_effs\"][1].real # 구해야 하는 것 [mode : 0에서의 n_eff]\n"
   ]
  },
  {
   "cell_type": "markdown",
   "id": "fb56df3b",
   "metadata": {},
   "source": [
    "### Case1) param : Waveguide length\n",
    "> Draw structure & solve n_effs"
   ]
  },
  {
   "cell_type": "code",
   "execution_count": null,
   "id": "6115fa66",
   "metadata": {},
   "outputs": [],
   "source": [
    "t_soi = 0.22\n",
    "t_slab = 0.1 # t_slab = film_thickness - wg_height \n",
    "# mode_solver = ms.ModeSolverSemiVectorial(4,semi_vectorial_method='Ex')\n",
    "for i in w_wg_list:\n",
    "    x = draw_structure(i,t_soi,t_slab)\n",
    "#     x.write_to_file('.\\\\struct\\\\struct_w_wg={0}.dat'.format(i))\n",
    "    mode_solver.solve(x)\n",
    "#     mode_solver.write_modes_to_file('mode_w_wg={0}.dat'.format(i))"
   ]
  },
  {
   "cell_type": "markdown",
   "id": "e571e538",
   "metadata": {},
   "source": [
    "### Case2) param : film_thickness[um]\n"
   ]
  },
  {
   "cell_type": "markdown",
   "id": "4e64a549",
   "metadata": {},
   "source": [
    "## Result\n",
    " <img src = \"https://user-images.githubusercontent.com/80964488/121543944-476f5e80-ca44-11eb-8ecc-15737bae8156.png\" width=\"30%\" height=\"30%\"> <img src = \"https://user-images.githubusercontent.com/80964488/121543992-535b2080-ca44-11eb-9f4d-b5b4719d514e.png\" width=\"50%\" height=\"50%\">\n"
   ]
  },
  {
   "cell_type": "code",
   "execution_count": null,
   "id": "d905a234",
   "metadata": {},
   "outputs": [],
   "source": []
  }
 ],
 "metadata": {
  "kernelspec": {
   "display_name": "Python 3",
   "language": "python",
   "name": "python3"
  },
  "language_info": {
   "codemirror_mode": {
    "name": "ipython",
    "version": 3
   },
   "file_extension": ".py",
   "mimetype": "text/x-python",
   "name": "python",
   "nbconvert_exporter": "python",
   "pygments_lexer": "ipython3",
   "version": "3.8.8"
  }
 },
 "nbformat": 4,
 "nbformat_minor": 5
}
